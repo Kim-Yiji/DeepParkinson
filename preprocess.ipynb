{
 "cells": [
  {
   "cell_type": "markdown",
   "id": "45eeced2",
   "metadata": {},
   "source": [
    "# 데이터 확인"
   ]
  },
  {
   "cell_type": "code",
   "execution_count": null,
   "id": "52dbf80b",
   "metadata": {},
   "outputs": [],
   "source": [
    "import pandas as pd"
   ]
  },
  {
   "cell_type": "code",
   "execution_count": null,
   "id": "1309a897",
   "metadata": {},
   "outputs": [],
   "source": [
    "df = pd.read_excel('Database/CIT_FDG_2017_2018.xlsx', engine='openpyxl')\n",
    "df"
   ]
  },
  {
   "cell_type": "markdown",
   "id": "8f36c3a5",
   "metadata": {},
   "source": [
    "## 년도별 병합"
   ]
  },
  {
   "cell_type": "code",
   "execution_count": null,
   "id": "eb4d47fd",
   "metadata": {},
   "outputs": [],
   "source": [
    "import pandas as pd\n",
    "import os\n",
    "\n",
    "# 📂 파일 경로\n",
    "data_dir = \"Database\"\n",
    "\n",
    "# 🔤 FDG 파일 목록\n",
    "fdg_files = [\n",
    "    \"CIT_FDG_2017_2018.xlsx\",\n",
    "    \"CIT_FDG_2019_2020.xlsx\",\n",
    "    \"CIT_FDG_2021_2022.xlsx\",\n",
    "    \"CIT_FDG_2023_20240731.xlsx\"\n",
    "]\n",
    "\n",
    "# 🔤 MR 파일 목록\n",
    "mr_files = [\n",
    "    \"CIT_MR_2017_2018.xlsx\",\n",
    "    \"CIT_MR_2019_2020.xlsx\",\n",
    "    \"CIT_MR_2021_2022.xlsx\",\n",
    "    \"CIT_MR_2023_20240731.xlsx\"\n",
    "]\n",
    "\n",
    "def merge_and_save(xlsx_list, output_name):\n",
    "    df_list = []\n",
    "    for file in xlsx_list:\n",
    "        file_path = os.path.join(data_dir, file)\n",
    "        try:\n",
    "            df = pd.read_excel(file_path)\n",
    "            df_list.append(df)\n",
    "            print(f\"✅ 불러옴: {file}\")\n",
    "        except Exception as e:\n",
    "            print(f\"❌ 오류: {file} - {e}\")\n",
    "\n",
    "    if df_list:\n",
    "        merged_df = pd.concat(df_list, ignore_index=True)\n",
    "        merged_df.to_csv(f\"{output_name}.csv\", index=False, encoding=\"utf-8-sig\")\n",
    "        print(f\"📁 저장 완료: {output_name}.csv\")\n",
    "    else:\n",
    "        print(f\"⚠️ 병합할 데이터가 없습니다: {output_name}\")\n",
    "\n",
    "# 🚀 실행\n",
    "merge_and_save(fdg_files, \"Database/CIT_FDG_2017_20240731\")\n",
    "merge_and_save(mr_files, \"Database/CIT_MR_2017_20240731\")"
   ]
  },
  {
   "cell_type": "code",
   "execution_count": null,
   "id": "073ff710",
   "metadata": {},
   "outputs": [],
   "source": [
    "df_CIT_FDG = pd.read_csv('Database/CIT_FDG_2017_20240731.csv', encoding='utf-8-sig')\n",
    "df_CIT_FDG.groupby('(실명)등록번호').size()"
   ]
  },
  {
   "cell_type": "code",
   "execution_count": null,
   "id": "4fe9f330",
   "metadata": {},
   "outputs": [],
   "source": [
    "df_CIT_MR = pd.read_csv('Database/CIT_MR_2017_20240731.csv', encoding='utf-8-sig')\n",
    "df_CIT_MR.groupby('(실명)등록번호').size()"
   ]
  },
  {
   "cell_type": "code",
   "execution_count": null,
   "id": "d3d83a77",
   "metadata": {},
   "outputs": [],
   "source": [
    "print(df_CIT_FDG.columns.tolist())"
   ]
  },
  {
   "cell_type": "code",
   "execution_count": null,
   "id": "02fd8e23",
   "metadata": {},
   "outputs": [],
   "source": [
    "print(df_CIT_MR.columns.tolist())"
   ]
  },
  {
   "cell_type": "code",
   "execution_count": null,
   "id": "b89c8350",
   "metadata": {},
   "outputs": [],
   "source": [
    "import pandas as pd\n",
    "\n",
    "# CSV 파일 경로\n",
    "file_path = 'Database/CIT_MR_2017_20240731.csv'\n",
    "\n",
    "# 열 이름만 읽기 (데이터는 불러오지 않음)\n",
    "df_columns = pd.read_csv(file_path, encoding='utf-8-sig', nrows=0)\n",
    "\n",
    "# 열 이름과 인덱스 출력\n",
    "for idx, col in enumerate(df_columns.columns):\n",
    "    if idx in [0, 68, 72]:\n",
    "        print(f\"{idx}: {col}\")"
   ]
  },
  {
   "cell_type": "markdown",
   "id": "472babad",
   "metadata": {},
   "source": [
    "# 전체 병합 "
   ]
  },
  {
   "cell_type": "markdown",
   "id": "3cb19ef4",
   "metadata": {},
   "source": [
    "## 데이터 불러오기"
   ]
  },
  {
   "cell_type": "code",
   "execution_count": null,
   "id": "7cffd430",
   "metadata": {},
   "outputs": [],
   "source": [
    "import pandas as pd\n",
    "\n",
    "# 1. 데이터 불러오기\n",
    "df_mr  = pd.read_csv('Database/CIT_MR_2017_20240731.csv', encoding='utf-8-sig')\n",
    "df_fdg = pd.read_csv('Database/CIT_FDG_2017_20240731.csv', encoding='utf-8-sig')"
   ]
  },
  {
   "cell_type": "markdown",
   "id": "1c7f31de",
   "metadata": {},
   "source": [
    "- 최종 환자 수 검수"
   ]
  },
  {
   "cell_type": "code",
   "execution_count": null,
   "id": "cbd47312",
   "metadata": {},
   "outputs": [],
   "source": [
    "# 1. df_mr에 존재하는 환자 등록번호 리스트 추출\n",
    "mr_patient_ids = df_mr['(실명)등록번호'].unique()\n",
    "\n",
    "# 2. df_fdg에서 FDG 기록 있는 사람 중 등록번호만 추출\n",
    "fdg_patient_ids = df_fdg[df_fdg['처방 처방코드명'].str.contains('FDG', na=False)]['(실명)등록번호'].unique()\n",
    "\n",
    "# 3. 교집합 구하기\n",
    "common_ids = set(mr_patient_ids) & set(fdg_patient_ids)\n",
    "\n",
    "# 4. 결과 출력\n",
    "print(f\"df_mr 환자 수: {len(mr_patient_ids)}\")\n",
    "print(f\"df_fdg에 FDG 기록이 있는 df_mr 환자 수: {len(common_ids)}\")"
   ]
  },
  {
   "cell_type": "markdown",
   "id": "269b4e77",
   "metadata": {},
   "source": [
    "## 각 컬럼별로 구분"
   ]
  },
  {
   "cell_type": "markdown",
   "id": "65abc44c",
   "metadata": {},
   "source": [
    "- ‘영상 처방코드명’이 CIT 영상이고 ‘처방 처방코드명’이 MRI 또는 FDG야\n",
    "- ’진단 입원(외래)일자‘를 기준으로 가장 최근 날짜인 행만 남기면 돼\n",
    "- 그리고 나서 최종적으로 CIT MR FDG 모두 있는 환자만 골라주면 돼"
   ]
  },
  {
   "cell_type": "code",
   "execution_count": null,
   "id": "a287c90f",
   "metadata": {},
   "outputs": [],
   "source": [
    "# 1) 접미사 없이 남길 “고정” 진단·환자 정보\n",
    "fixed_cols = [\n",
    "    '(실명)등록번호','(실명)내원번호','(실명)생년월일',\n",
    "    '지역병원코드','연구등록번호','연구내원번호',\n",
    "    '진단 성별코드','진단 성별','진단 나이',\n",
    "    '진단 내원구분코드','진단 내원구분명',\n",
    "    '진단 입원(외래)일자','진단 입원(외래)과 코드','진단 입원(외래)과명',\n",
    "    '진단 입원(외래)주치의ID','진단 입원(외래)주치의명',\n",
    "    '진단 진단명입력일자','진단 진단입력과코드','진단 진단입력과명',\n",
    "    '진단 주상병여부','진단 주상병여부(계산)','진단 확진여부',\n",
    "    '진단 진단코드','진단 진단영문명','진단 진단한글명',\n",
    "    '진단 ICD10Cd','진단 ICD10Cd명'\n",
    "]\n",
    "\n",
    "# 2) CIT 영상 관련 컬럼 (CIT_ 접두사)\n",
    "cit_img_cols = [\n",
    "    '영상 성별코드','영상 성별','영상 검사시나이',\n",
    "    '영상 내원구분코드','영상 내원구분명',\n",
    "    '영상 처방코드','영상 처방코드명','영상 처방일자',\n",
    "    '영상 검사시행일자','영상 검사시행시간',\n",
    "    '영상 처방과코드','영상 처방과명',\n",
    "    '영상 처방주치의ID','영상 처방주치의명',\n",
    "    '영상 검사실코드','영상 검사실명',\n",
    "    '영상 조영제코드','영상 조영제명','영상 조영제투여량','영상 조영제처방비고',\n",
    "    '영상 처방일련번호','영상 AccNo',\n",
    "    '영상 판독일자','영상 판독의ID','영상 판독의명','영상 판독결과',\n",
    "    '영상 전문의ID','영상 전문의명'\n",
    "]\n",
    "\n",
    "# 3) MRI 처방 관련 컬럼 (MRI_ 접두사)\n",
    "mri_rx_cols = [\n",
    "    '처방 성별코드','처방 성별','처방 처방시나이',\n",
    "    '처방 내원구분코드','처방 내원구분명',\n",
    "    '처방 처방코드','처방 처방코드명','처방 처방일자','처방 처방시행일자',\n",
    "    '처방 처방과코드','처방 처방과명',\n",
    "    '처방 주치의 ID','처방 주치의명',\n",
    "    '처방 시행과코드','처방 시행과명',\n",
    "    '처방 시행자 ID','처방 시행자명',\n",
    "    '처방 처방명(메시지)','처방 처방구분','처방 처방구분명',\n",
    "    '처방 처방분류코드','처방 처방분류코드명',\n",
    "    '처방 T용량','처방 용량','처방 횟수','처방 일수',\n",
    "    '처방 용법코드','처방 용법코드명',\n",
    "    '처방 처방일련번호','처방 수가코드','처방 투여시간코드',\n",
    "    '처방 치식정보','처방 치식식별명'\n",
    "]\n",
    "\n",
    "# 4) FDG 처방 관련 컬럼 (FDG_ 접두사)\n",
    "fdg_rx_cols = mri_rx_cols.copy()  # MRI와 동일한 처방 필드 목록"
   ]
  },
  {
   "cell_type": "code",
   "execution_count": null,
   "id": "47379ade",
   "metadata": {},
   "outputs": [],
   "source": [
    "# --- CIT-MR 쪽 접두사 붙이기 ---\n",
    "df_mr = (\n",
    "    df_mr\n",
    "    # 1) 고정 정보는 그대로\n",
    "    # 2) CIT 영상 정보 → CIT_ 접두사\n",
    "    .rename(columns={col: f'CIT_{col}'   for col in cit_img_cols})\n",
    "    # 3) MRI 처방 정보 → MRI_ 접두사\n",
    "    .rename(columns={col: f'MRI_{col}'   for col in mri_rx_cols})\n",
    ")\n",
    "\n",
    "# --- CIT-FDG 쪽 접두사 붙이기 ---\n",
    "df_fdg = (\n",
    "    df_fdg\n",
    "    # 1) 고정 정보는 그대로\n",
    "    # 2) CIT 영상 정보 → CIT_ 접두사\n",
    "    .rename(columns={col: f'CIT_{col}'   for col in cit_img_cols})\n",
    "    # 3) FDG 처방 정보 → FDG_ 접두사\n",
    "    .rename(columns={col: f'FDG_{col}'   for col in fdg_rx_cols})\n",
    ")"
   ]
  },
  {
   "cell_type": "code",
   "execution_count": null,
   "id": "f7829c26",
   "metadata": {},
   "outputs": [],
   "source": [
    "print(df_mr.columns.tolist())\n",
    "print(df_fdg.columns.tolist())"
   ]
  },
  {
   "cell_type": "markdown",
   "id": "a5bbcc01",
   "metadata": {},
   "source": [
    "## 각각 최신 행 추출"
   ]
  },
  {
   "cell_type": "code",
   "execution_count": null,
   "id": "3d426e4f",
   "metadata": {},
   "outputs": [],
   "source": [
    "# 진단 입원(외래)일자 : 두 데이터 프레임 중에서 제일 최신 값으로 바꾸고 최신_진단 입원(외래)일자 컬럼 생성\n",
    "# MR에서 MRI_처방시행일자이 최신인 행에서 MRI suffix 붙어있는 애들 다 가져오고 FDG에서 FDG_처방시행일자이 최신인 행에서 FDG suffix 붙어있는 애들 다 가져오기\n",
    "# CIT는 MRI_처방시행일자이 최신인 행과 FDG_처방시행일자이 최신인 행에서 CIT_검사시행일자가 동일한지 확인하고 로그 출력\n",
    "# 동일하면 그 해당 행에서 CIT suffix 붙어있는 애들 내용이 같은지 확인하고 로그 출력\n",
    "# 동일하지 않으면 오류 로그 출력"
   ]
  },
  {
   "cell_type": "markdown",
   "id": "d1e85b1f",
   "metadata": {},
   "source": [
    "### 각각 최신행 확인"
   ]
  },
  {
   "cell_type": "code",
   "execution_count": null,
   "id": "caacbff7",
   "metadata": {},
   "outputs": [],
   "source": [
    "# MR과 FDG에서 각각 최신 처방 시행일자를 가진 행을 추출\n",
    "\n",
    "mr_latest = (df_mr\n",
    "             .sort_values('MRI_처방 처방시행일자')\n",
    "             .groupby('(실명)등록번호', as_index=False)\n",
    "             .tail(1))\n",
    "fdg_latest = (df_fdg\n",
    "              .sort_values('FDG_처방 처방시행일자')\n",
    "              .groupby('(실명)등록번호', as_index=False)\n",
    "              .tail(1))\n",
    "\n",
    "mr_latest.shape, fdg_latest.shape\n"
   ]
  },
  {
   "cell_type": "code",
   "execution_count": null,
   "id": "2d6c3edf",
   "metadata": {},
   "outputs": [],
   "source": [
    "### 최신 CIT 일치\n",
    "# 1) 시리즈로 뽑아서 인덱스를 (실명)등록번호 로 설정\n",
    "mr_dates = mr_latest.set_index('(실명)등록번호')['CIT_영상 검사시행일자']\n",
    "fdg_dates = fdg_latest.set_index('(실명)등록번호')['CIT_영상 검사시행일자']\n",
    "\n",
    "# 2) datetime으로 변환\n",
    "mr_dates = pd.to_datetime(mr_dates)\n",
    "fdg_dates = pd.to_datetime(fdg_dates)\n",
    "\n",
    "# 3) 공통 환자 ID만 골라내기\n",
    "common_ids = mr_dates.index.intersection(fdg_dates.index)\n",
    "\n",
    "# 4) 같은 순서로 재인덱싱\n",
    "mr_aligned = mr_dates.loc[common_ids]\n",
    "fdg_aligned = fdg_dates.loc[common_ids]\n",
    "\n",
    "# 5) 비교해서 불일치 여부 Series 생성\n",
    "mismatch = mr_aligned != fdg_aligned\n",
    "\n",
    "# 6) 일치하는 ID만 리스트로 저장\n",
    "match_ids = common_ids[~mismatch].tolist()\n",
    "\n",
    "if not mismatch.any():\n",
    "    print(\"✅ 모든 환자에 대해 CIT_영상 검사시행일자가 일치합니다.\")\n",
    "else:\n",
    "    bad_ids = common_ids[mismatch].tolist()\n",
    "    print(f\"❌ {len(bad_ids)}명 불일치:\")\n",
    "    for pid in bad_ids:\n",
    "        mr_dt = mr_aligned.loc[pid]\n",
    "        fdg_dt = fdg_aligned.loc[pid]\n",
    "        # Timestamp 객체이므로 .date() 호출 가능\n",
    "        print(f\"  Patient {pid}: MR={mr_dt.date()}, FDG={fdg_dt.date()}\")\n",
    "\n",
    "print(f\"✅ 총 {len(match_ids)}명 일치: {match_ids}\")"
   ]
  },
  {
   "cell_type": "markdown",
   "id": "1870a04b",
   "metadata": {},
   "source": [
    "### fixed_cols"
   ]
  },
  {
   "cell_type": "code",
   "execution_count": null,
   "id": "7764d609",
   "metadata": {},
   "outputs": [],
   "source": [
    "import pandas as pd\n",
    "\n",
    "# — 가정: df_mr, df_fdg, fixed_cols, match_ids 가 정의되어 있습니다.\n",
    "\n",
    "# 1) match_ids 대상의 fixed_cols 데이터만 뽑아서, 날짜 컬럼 변환\n",
    "dfs = []\n",
    "for df in (df_mr, df_fdg):\n",
    "    tmp = (\n",
    "        df[df['(실명)등록번호'].isin(match_ids)]\n",
    "        .loc[:, fixed_cols]     # fixed_cols 안에 진단 입원(외래)일자 포함\n",
    "        .copy()\n",
    "    )\n",
    "    tmp['진단 입원(외래)일자'] = pd.to_datetime(tmp['진단 입원(외래)일자'])\n",
    "    dfs.append(tmp)\n",
    "\n",
    "# 2) 두 프레임을 합쳐서\n",
    "all_diag = pd.concat(dfs, ignore_index=True)\n",
    "\n",
    "# 3) 환자별 가장 최신 진단일자 행만 남기기\n",
    "latest_diag = (\n",
    "    all_diag\n",
    "    .sort_values('진단 입원(외래)일자')\n",
    "    .groupby('(실명)등록번호', as_index=False)\n",
    "    .tail(1)\n",
    ")\n",
    "\n",
    "# 4) fixed_cols 컬럼만 남긴 최종 결과\n",
    "fixed_latest = latest_diag[fixed_cols].reset_index(drop=True)\n",
    "\n",
    "print(\"▶ 결과 환자 수:\", fixed_latest['(실명)등록번호'].nunique())\n",
    "print(\"fixed_latest.columns.tolist():\", fixed_latest.columns.tolist())\n",
    "fixed_latest.head()"
   ]
  },
  {
   "cell_type": "markdown",
   "id": "8c2957d8",
   "metadata": {},
   "source": [
    "### 나머지"
   ]
  },
  {
   "cell_type": "code",
   "execution_count": null,
   "id": "c6cc2950",
   "metadata": {},
   "outputs": [],
   "source": [
    "# 3) MR에서 (실명)등록번호 + cit_img_cols + mri_rx_cols 컬럼만 추출\n",
    "mr_select_cols = ['(실명)등록번호'] + \\\n",
    "                 [f'CIT_{col}' for col in cit_img_cols] + \\\n",
    "                 [f'MRI_{col}' for col in mri_rx_cols]\n",
    "df_mr_select = mr_latest[mr_select_cols].copy()\n",
    "\n",
    "# 4) FDG에서 (실명)등록번호 + fdg_rx_cols 컬럼만 추출\n",
    "fdg_select_cols = ['(실명)등록번호'] + \\\n",
    "                  [f'FDG_{col}' for col in fdg_rx_cols]\n",
    "df_fdg_select = fdg_latest[fdg_select_cols].copy()"
   ]
  },
  {
   "cell_type": "code",
   "execution_count": null,
   "id": "f429aed8",
   "metadata": {},
   "outputs": [],
   "source": [
    "df_mr_select.head()"
   ]
  },
  {
   "cell_type": "code",
   "execution_count": null,
   "id": "ddabc8fc",
   "metadata": {},
   "outputs": [],
   "source": [
    "df_fdg_select.head()"
   ]
  },
  {
   "cell_type": "code",
   "execution_count": null,
   "id": "26f77f4e",
   "metadata": {},
   "outputs": [],
   "source": [
    "# 전체 중에 최신 진단일자 기준으로 fixed_cols 받아오고\n",
    "# 그 과정에서 진단 입원(외래)일자 컬럼 명을 최신 진단 입원(외래)일자 로 바꾸고\n",
    "# CIT_영상 검사시행일자가 같은 환자에 대해서만 FDG 쪽의 CIT 컬럼 cit_img_cols 받아오고 나머지 MRI와 FDG 쪽의 mri_rx_cols랑 fdg_rx_cols받아와서 하나의 데이터프레임으로 합치고 싶어."
   ]
  },
  {
   "cell_type": "code",
   "execution_count": null,
   "id": "1bf0b79c",
   "metadata": {},
   "outputs": [],
   "source": [
    "# 가정: fixed_df 는 이미 “fixed_cols” 정보만 담고 있는 DataFrame입니다.\n",
    "#       df_mr_select, df_fdg_select 는 위에서 만든 MR·FDG 선택 DataFrame입니다.\n",
    "\n",
    "# 1) fixed_df 기준으로 df_mr_select 붙이기 (left join)\n",
    "merged = fixed_latest.merge(\n",
    "    df_mr_select,\n",
    "    on='(실명)등록번호',\n",
    "    how='left'\n",
    ")\n",
    "\n",
    "# 2) 여기에 다시 df_fdg_select 붙이기 (left join)\n",
    "merged = merged.merge(\n",
    "    df_fdg_select,\n",
    "    on='(실명)등록번호',\n",
    "    how='left'\n",
    ")\n",
    "\n",
    "# 3) 결과 확인\n",
    "print(\"▶ 최종 shape:\", merged.shape)\n",
    "\n",
    "#4) 저장\n",
    "merged.to_csv(\"Database/CIT_MR_FDG_merged.csv\", index=False, encoding= 'utf-8-sig')\n",
    "\n",
    "merged.head()"
   ]
  },
  {
   "cell_type": "code",
   "execution_count": 52,
   "id": "3df186e3",
   "metadata": {},
   "outputs": [
    {
     "name": "stdout",
     "output_type": "stream",
     "text": [
      "최종 컬럼: ['(실명)등록번호', '(실명)생년월일', '진단 성별코드', '진단 나이', '진단 입원(외래)일자', '진단 입원(외래)주치의명', '진단 진단명입력일자', '진단 진단입력과명', '진단 확진여부', '진단 진단영문명', '진단 진단한글명', 'CIT_영상 처방코드명', 'CIT_영상 검사시행일자', 'CIT_영상 검사시행시간', 'CIT_영상 판독일자', 'CIT_영상 판독의명', 'CIT_영상 판독결과', 'MRI_처방 처방코드명', 'MRI_처방 처방시행일자', 'FDG_처방 처방코드명', 'FDG_처방 처방시행일자']\n",
      "shape: (574, 21)\n",
      "✅ df_final_merged.csv 저장 완료\n"
     ]
    }
   ],
   "source": [
    "# 1) 남기고 싶은 컬럼 리스트\n",
    "desired = [\n",
    "    '(실명)등록번호',\n",
    "    #— 진단 정보\n",
    "    '(실명)생년월일',\n",
    "    '진단 성별코드',\n",
    "    '진단 나이',\n",
    "    '진단 입원(외래)일자',\n",
    "    '진단 입원(외래)주치의명',\n",
    "    '진단 진단명입력일자',\n",
    "    '진단 진단입력과명',\n",
    "    '진단 확진여부',\n",
    "    '진단 진단영문명',\n",
    "    '진단 진단한글명',\n",
    "\n",
    "    #— CIT 영상\n",
    "    'CIT_영상 처방코드명',\n",
    "    'CIT_영상 검사시행일자',\n",
    "    'CIT_영상 검사시행시간',\n",
    "    'CIT_영상 판독일자',\n",
    "    'CIT_영상 판독의명',\n",
    "    'CIT_영상 판독결과',\n",
    "    \n",
    "    #— MRI 처방\n",
    "    'MRI_처방 처방코드명',\n",
    "    'MRI_처방 처방시행일자',\n",
    "    \n",
    "    #— FDG 처방\n",
    "    'FDG_처방 처방코드명',\n",
    "    'FDG_처방 처방시행일자',\n",
    "]\n",
    "\n",
    "# 2) 실제 존재하는 컬럼만 걸러내기\n",
    "keep = [c for c in desired if c in merged.columns]\n",
    "\n",
    "# 3) 추출\n",
    "df_final_merged = merged[keep].copy()\n",
    "\n",
    "# 4) 확인\n",
    "print(\"최종 컬럼:\", df_final_merged.columns.tolist())\n",
    "print(\"shape:\", df_final_merged.shape)\n",
    "\n",
    "# 5) 저장\n",
    "df_final_merged.to_csv('Database/CIT_MR_FDG_processed.csv', index=False, encoding='utf-8-sig')\n",
    "print(\"✅ df_final_merged.csv 저장 완료\")"
   ]
  },
  {
   "cell_type": "code",
   "execution_count": null,
   "id": "a33ed87b",
   "metadata": {},
   "outputs": [],
   "source": []
  }
 ],
 "metadata": {
  "kernelspec": {
   "display_name": "base",
   "language": "python",
   "name": "python3"
  },
  "language_info": {
   "codemirror_mode": {
    "name": "ipython",
    "version": 3
   },
   "file_extension": ".py",
   "mimetype": "text/x-python",
   "name": "python",
   "nbconvert_exporter": "python",
   "pygments_lexer": "ipython3",
   "version": "3.12.2"
  }
 },
 "nbformat": 4,
 "nbformat_minor": 5
}
